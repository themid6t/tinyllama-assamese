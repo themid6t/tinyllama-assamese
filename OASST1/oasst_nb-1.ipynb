{
 "cells": [
  {
   "cell_type": "code",
   "execution_count": 40,
   "id": "d75cb175",
   "metadata": {},
   "outputs": [
    {
     "data": {
      "text/plain": [
       "True"
      ]
     },
     "execution_count": 40,
     "metadata": {},
     "output_type": "execute_result"
    }
   ],
   "source": [
    "from openai import OpenAI\n",
    "from datasets import load_dataset\n",
    "import os, dotenv\n",
    "\n",
    "dotenv.load_dotenv()"
   ]
  },
  {
   "cell_type": "code",
   "execution_count": 42,
   "id": "b466a0c4",
   "metadata": {},
   "outputs": [],
   "source": [
    "client = OpenAI()"
   ]
  },
  {
   "cell_type": "code",
   "execution_count": 43,
   "id": "e4eb5f0c",
   "metadata": {},
   "outputs": [
    {
     "name": "stdout",
     "output_type": "stream",
     "text": [
      "Original:\n",
      "\"Monopsony\" refers to a market structure where there is only one buyer for a particular good or service. In economics, this term is particularly relevant in the labor market, where a monopsony employer has significant power over the wages and working conditions of their employees. The presence of a monopsony can result in lower wages and reduced employment opportunities for workers, as the employer has little incentive to increase wages or provide better working conditions.\n",
      "\n",
      "Recent research has identified potential monopsonies in industries such as retail and fast food, where a few large companies control a significant portion of the market (Bivens & Mishel, 2013). In these industries, workers often face low wages, limited benefits, and reduced bargaining power, leading to a situation where they are dependent on the employer for their livelihood. This dependence can result in further suppression of wages and a decline in working conditions.\n",
      "\n",
      "Overall, the concept of monopsony is essential to understanding the dynamics of labor markets and the impact of market power on workers. Further research is needed to understand the extent and impact of monopsonies on the economy and to develop policies to address this issue.\n",
      "\n",
      "References:\n",
      "Bivens, J., & Mishel, L. (2013). The Pay of Corporate Executives and Financial Professionals as Evidence of Rents in Top 1 Percent Incomes. Journal of Economic Perspectives, 27(3), 57-78.\n",
      "\n"
     ]
    }
   ],
   "source": [
    "# Load one sample from OASST1\n",
    "dataset = load_dataset(\"OpenAssistant/oasst1\", split=\"train\")\n",
    "sample_text = dataset[1][\"text\"]\n",
    "print(f\"Original:\\n{sample_text}\\n\")"
   ]
  },
  {
   "cell_type": "code",
   "execution_count": 44,
   "id": "aec7ff4b",
   "metadata": {},
   "outputs": [],
   "source": [
    "# Translation prompt\n",
    "prompt = f\"Translate the following English text to Assamese:\\n\\n{sample_text}\\n\\nAssamese:\""
   ]
  },
  {
   "cell_type": "code",
   "execution_count": 46,
   "id": "a2cef6a6",
   "metadata": {},
   "outputs": [],
   "source": [
    "# Call GPT-4o\n",
    "response = client.chat.completions.create(\n",
    "    model=\"gpt-4o\",\n",
    "    messages=[{\"role\": \"user\", \"content\": prompt}],\n",
    "    temperature=0.3,\n",
    ")"
   ]
  },
  {
   "cell_type": "code",
   "execution_count": 49,
   "id": "1d8c93fb",
   "metadata": {},
   "outputs": [
    {
     "name": "stdout",
     "output_type": "stream",
     "text": [
      "\"মনপচনী\" বুলি কোৱা হয় সেই বজাৰ গঠনক য'ত কোনো এটা নিৰ্দিষ্ট সামগ্ৰী বা সেৱাৰ বাবে কেৱল এটা ক্রেতা থাকে। অৰ্থনীতিত, এই শব্দটো বিশেষকৈ কৰ্মবজাৰত প্ৰাসংগিক, য'ত এটা মনপচনী নিয়োগকর্তাৰ নিজৰ কৰ্মচাৰীৰ মজুৰি আৰু কৰ্ম পৰিস্থিতিৰ ওপৰত উল্লেখযোগ্য ক্ষমতা থাকে। মনপচনীৰ উপস্থিতিয়ে কৰ্মচাৰীৰ বাবে কম মজুৰি আৰু সীমিত নিয়োগৰ সুযোগৰ সৃষ্টি কৰিব পাৰে, কাৰণ নিয়োগকর্তাৰ মজুৰি বৃদ্ধি কৰা বা ভাল কৰ্ম পৰিস্থিতি প্ৰদান কৰাৰ প্ৰেৰণা কম থাকে।\n",
      "\n",
      "সাম্প্ৰতিক গৱেষণাই খুচুৰা আৰু ফাষ্ট ফুডৰ দৰে উদ্যোগত সম্ভাৱ্য মনপচনী চিনাক্ত কৰিছে, য'ত কেইটামান ডাঙৰ কোম্পানীয়ে বজাৰৰ উল্লেখযোগ্য অংশ নিয়ন্ত্ৰণ কৰে (বিভেন্স আৰু মিছেল, ২০১৩)। এই উদ্যোগসমূহত, কৰ্মচাৰীয়ে প্ৰায়েই কম মজুৰি, সীমিত সুবিধা, আৰু হ্ৰাসপ্ৰাপ্ত বাৰ্গেইনিং ক্ষমতাৰ সন্মুখীন হয়, যাৰ ফলত তেওঁলোকে নিজৰ জীৱিকাৰ বাবে নিয়োগকর্তাৰ ওপৰত নিৰ্ভৰশীল হৈ পৰে। এই নিৰ্ভৰশীলতাই মজুৰিৰ অধিক দমন আৰু কৰ্ম পৰিস্থিতিৰ অৱনতি ঘটাব পাৰে।\n",
      "\n",
      "সামগ্ৰিকভাৱে, মনপচনীৰ ধাৰণাটো কৰ্মবজাৰৰ গতি-প্ৰকৃতি আৰু কৰ্মচাৰীৰ ওপৰত বজাৰ শক্তিৰ প্ৰভাৱ বুজিবলৈ অত্যাৱশ্যক। অৰ্থনীতিৰ ওপৰত মনপচনীৰ পৰিমাণ আৰু প্ৰভাৱ বুজিবলৈ আৰু এই সমস্যাটোৰ সমাধানৰ বাবে নীতি বিকাশ কৰিবলৈ অধিক গৱেষণাৰ প্ৰয়োজন।\n",
      "\n",
      "উল্লেখ:\n",
      "বিভেন্স, জে., আৰু মিছেল, এল. (২০১৩)। কৰ্পৰেট কাৰ্যবাহী আৰু বিত্তীয় পেচাদাৰীসকলৰ মজুৰি শীৰ্ষ ১ শতাংশ আয়ত ভাড়াৰ প্ৰমাণ হিচাপে। জাৰ্নেল অৱ ইকনমিক পাৰস্পেক্টিভছ, ২৭(৩), ৫৭-৭৮।\n"
     ]
    }
   ],
   "source": [
    "print(response.choices[0].message.content)"
   ]
  }
 ],
 "metadata": {
  "kernelspec": {
   "display_name": "assamese",
   "language": "python",
   "name": "python3"
  },
  "language_info": {
   "codemirror_mode": {
    "name": "ipython",
    "version": 3
   },
   "file_extension": ".py",
   "mimetype": "text/x-python",
   "name": "python",
   "nbconvert_exporter": "python",
   "pygments_lexer": "ipython3",
   "version": "3.11.0"
  }
 },
 "nbformat": 4,
 "nbformat_minor": 5
}
