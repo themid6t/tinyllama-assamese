{
 "cells": [
  {
   "cell_type": "code",
   "execution_count": 2,
   "metadata": {},
   "outputs": [],
   "source": [
    "# Load the datasets\n",
    "with open('datasets/training/train-01.txt', 'r') as file1:\n",
    "    data1 = file1.readlines()\n",
    "\n",
    "with open('datasets/training/train-02.txt', 'r') as file2:\n",
    "    data2 = file2.readlines()"
   ]
  },
  {
   "cell_type": "code",
   "execution_count": 3,
   "metadata": {},
   "outputs": [
    {
     "name": "stdout",
     "output_type": "stream",
     "text": [
      "Number of lines in train-01.txt: 12320\n",
      "Number of lines in train-02.txt: 176608\n"
     ]
    }
   ],
   "source": [
    "# Count the number of lines in each dataset\n",
    "lines_in_train_01 = len(data1)\n",
    "lines_in_train_02 = len(data2)\n",
    "\n",
    "print(f\"Number of lines in train-01.txt: {lines_in_train_01}\")\n",
    "print(f\"Number of lines in train-02.txt: {lines_in_train_02}\")"
   ]
  },
  {
   "cell_type": "code",
   "execution_count": 4,
   "metadata": {},
   "outputs": [
    {
     "name": "stdout",
     "output_type": "stream",
     "text": [
      "Total number of characters in train-01.txt: 24247175\n",
      "Total number of characters in train-02.txt: 15016041\n"
     ]
    }
   ],
   "source": [
    "# Count the total number of characters in each dataset\n",
    "chars_in_train_01 = sum(len(line) for line in data1)\n",
    "chars_in_train_02 = sum(len(line) for line in data2)\n",
    "\n",
    "print(f\"Total number of characters in train-01.txt: {chars_in_train_01}\")\n",
    "print(f\"Total number of characters in train-02.txt: {chars_in_train_02}\")"
   ]
  },
  {
   "cell_type": "code",
   "execution_count": 3,
   "metadata": {},
   "outputs": [
    {
     "name": "stdout",
     "output_type": "stream",
     "text": [
      "Datasets merged and saved to 'train-merged.txt'.\n"
     ]
    }
   ],
   "source": [
    "# Merge the datasets\n",
    "merged_data = data1 + data2\n",
    "\n",
    "# Save the merged dataset to a new file\n",
    "with open('datasets/training/train-merged.txt', 'w') as merged_file:\n",
    "    merged_file.writelines(merged_data)\n",
    "\n",
    "print(\"Datasets merged and saved to 'train-merged.txt'.\")"
   ]
  }
 ],
 "metadata": {
  "kernelspec": {
   "display_name": "assamese",
   "language": "python",
   "name": "assamese"
  },
  "language_info": {
   "codemirror_mode": {
    "name": "ipython",
    "version": 3
   },
   "file_extension": ".py",
   "mimetype": "text/x-python",
   "name": "python",
   "nbconvert_exporter": "python",
   "pygments_lexer": "ipython3",
   "version": "3.11.0"
  }
 },
 "nbformat": 4,
 "nbformat_minor": 2
}
