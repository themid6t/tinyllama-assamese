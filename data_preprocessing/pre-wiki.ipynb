{
 "cells": [
  {
   "cell_type": "code",
   "execution_count": 1,
   "id": "d4aeae7f",
   "metadata": {},
   "outputs": [],
   "source": [
    "import os, re\n",
    "import numpy as np"
   ]
  },
  {
   "cell_type": "code",
   "execution_count": 2,
   "id": "246e5a5e",
   "metadata": {},
   "outputs": [],
   "source": [
    "DATASET_PATH = \"datasets/cleaned_dataset.txt\"\n",
    "OUTPUT_DIR = \"datasets/training\"\n",
    "\n",
    "FILE2 = OUTPUT_DIR + \"/train-02.txt\""
   ]
  },
  {
   "cell_type": "code",
   "execution_count": 3,
   "id": "6718c1b1",
   "metadata": {},
   "outputs": [
    {
     "name": "stdout",
     "output_type": "stream",
     "text": [
      "Number of lines: 444967\n",
      "\n",
      "First 10 rows: \n",
      " ['গৃহচলচ্চিত্ৰ মহোৎসৱ', 'আজিৰ সভাতেই সংগঠনটিয়ে এটা চকু চিকিৎসা শিবিৰ, আদৰ্শ গাওঁ পৰিভ্ৰমণ কৰি অৱস্থাৰ বুজ লোৱা, দুৰ্গত লোকক সাহায্য প্ৰদান কৰা, মদ ভাং ড্ৰাগছ আদিৰ বিৰুদ্ধে জনসচেতনতা সৃষ্টি কৰা, খুমটাইত থকা দুস্প্ৰাপ্য কেতেকী ফুল সংৰক্ষণ ব্যৱস্থা গ্ৰহণকে আদি কৰি বহু কেইটা গুৰুত্বপূৰ্ণ সমাজ সেৱামূলক কাম কৰাৰ আঁচনি গ্ৰহণ কৰা হয়', 'বৃহত্তৰ ডিব্ৰুগড় প্ৰেছ ক্লাবৰ দ্বাদশতম প্ৰতিষ্ঠা দিৱস উদযাপন', 'চতুৰ্থ সংখ্যা প্ৰথম বছৰ মুক্ত চিন্তা', 'মই এনে এক সময়ত এই প্ৰবন্ধটো লিখিবলৈ লৈছো যিটো সময়ত মই এক ভয়ংকৰ ফেচিবাদী আক্ৰমণৰ মুখামুখি হৈছো মোৰ নিজৰ ছাত্ৰই মোক ধুৰন্ধৰ বুলি কবলৈ কুণ্ঠাবোধঅধিক', 'মানুহে নৃগোষ্ঠীয় চিন্তাচেতনা পাহৰিব নোৱাৰে৷ আৰু বিশ্ব ইতিহাসৰ যি পৰিক্ৰমা, তালৈ লক্ষ্য কৰিলে এইটোও দেখা যায় যে শোষণনিপীড়নৰ প্ৰসংগই হওক, বা অৰ্থনৈতিক লুন্ঠনৰ পটভূমিয়েই হওকঅধিক', ', সম্পাদক চন্দন চিৰিং ফুকন, নিবেদিতা হাজৰিকা', 'মই তোমাক একোৱেই কোৱা নাছিলো', 'তথাপিও জানো কেনেকৈ পাইছিলা দূৰৈৰ পৰাই', 'মোৰ অনুভৱৰ আকাশ']\n"
     ]
    }
   ],
   "source": [
    "with open(DATASET_PATH, \"r\", encoding=\"utf-8\") as f:\n",
    "    lines = [line.strip() for line in f if line.strip()]\n",
    "\n",
    "print(f\"Number of lines: {len(lines)}\")\n",
    "print(\"\\nFirst 10 rows: \\n\", lines[:10])"
   ]
  },
  {
   "cell_type": "code",
   "execution_count": 5,
   "id": "5e151d8e",
   "metadata": {},
   "outputs": [
    {
     "name": "stdout",
     "output_type": "stream",
     "text": [
      "\n",
      "Dataset Analysis Results:\n",
      "Total Sentences: 444967\n",
      "Max Sentence Length: 128 words (694 characters)\n",
      "Min Sentence Length: 1 words (1 characters)\n",
      "Average Sentence Length: 9.70 words\n",
      "Standard Deviation: 11.02 words\n"
     ]
    }
   ],
   "source": [
    "sentence_lengths = []\n",
    "max_len_words = 0\n",
    "min_len_words = float('inf')\n",
    "max_len_chars = 0\n",
    "min_len_chars = float('inf')\n",
    "total_sentences = 0\n",
    "\n",
    "# Read and process the file line by line\n",
    "for line in lines:\n",
    "    line = line.strip()\n",
    "    if line:\n",
    "        total_sentences += 1\n",
    "\n",
    "        # Calculate lengths\n",
    "        word_count = len(line.split())\n",
    "        char_count = len(line)\n",
    "\n",
    "        # Store sentence lengths\n",
    "        sentence_lengths.append(word_count)\n",
    "\n",
    "        # Update max and min lengths\n",
    "        max_len_words = max(max_len_words, word_count)\n",
    "        min_len_words = min(min_len_words, word_count)\n",
    "        max_len_chars = max(max_len_chars, char_count)\n",
    "        min_len_chars = min(min_len_chars, char_count)\n",
    "\n",
    "# Calculate statistics\n",
    "average_length = np.mean(sentence_lengths)\n",
    "std_dev = np.std(sentence_lengths)\n",
    "\n",
    "# Print the results\n",
    "print(\"\\nDataset Analysis Results:\")\n",
    "print(f\"Total Sentences: {total_sentences}\")\n",
    "print(f\"Max Sentence Length: {max_len_words} words ({max_len_chars} characters)\")\n",
    "print(f\"Min Sentence Length: {min_len_words} words ({min_len_chars} characters)\")\n",
    "print(f\"Average Sentence Length: {average_length:.2f} words\")\n",
    "print(f\"Standard Deviation: {std_dev:.2f} words\")"
   ]
  },
  {
   "cell_type": "code",
   "execution_count": 6,
   "id": "ca694d3b",
   "metadata": {},
   "outputs": [],
   "source": [
    "# Function to clean text (should be defined before its use in cell below)\n",
    "def clean_text(text):\n",
    "    if not isinstance(text, str):\n",
    "        return \"\"\n",
    "        \n",
    "    # Remove HTML tags\n",
    "    text = re.sub(r'<.*?>', '', text)\n",
    "    \n",
    "    # Remove URLs\n",
    "    text = re.sub(r'https?://\\S+|www\\.\\S+', '', text)\n",
    "    \n",
    "    # Remove extra whitespace\n",
    "    text = re.sub(r'\\s+', ' ', text)\n",
    "    \n",
    "    # Remove control characters\n",
    "    text = re.sub(r'[\\x00-\\x1F\\x7F-\\x9F]', '', text)\n",
    "    \n",
    "    # Remove special characters (keep basic punctuation)\n",
    "    text = re.sub(r'[^\\w\\s.,!?\"\\'-:;()\\[\\]{}]', '', text)\n",
    "    \n",
    "    return text.strip()"
   ]
  },
  {
   "cell_type": "code",
   "execution_count": 7,
   "id": "95af9dcc",
   "metadata": {},
   "outputs": [
    {
     "name": "stdout",
     "output_type": "stream",
     "text": [
      "Cleaning texts...\n",
      "After cleaning, 176608 texts remain (removed 268359 short/empty texts)\n"
     ]
    }
   ],
   "source": [
    "# First, clean all texts\n",
    "print(\"Cleaning texts...\")\n",
    "cleaned_texts = [clean_text(text) for text in lines]\n",
    "\n",
    "# Filter out empty or very short texts\n",
    "cleaned_texts = [text for text in cleaned_texts if len(text) > 30]\n",
    "print(f\"After cleaning, {len(cleaned_texts)} texts remain (removed {len(lines) - len(cleaned_texts)} short/empty texts)\")"
   ]
  },
  {
   "cell_type": "code",
   "execution_count": 8,
   "id": "9b3e1c4a",
   "metadata": {},
   "outputs": [
    {
     "name": "stdout",
     "output_type": "stream",
     "text": [
      "Cleaned text data saved to datasets/training/train-02.txt\n",
      "File size: 36.52 MB\n"
     ]
    }
   ],
   "source": [
    "# Save all cleaned texts with a newline separator\n",
    "with open(FILE2, 'w', encoding='utf-8') as f:\n",
    "    for text in cleaned_texts:\n",
    "        f.write(text + '\\n')\n",
    "\n",
    "print(f\"Cleaned text data saved to {FILE2}\")\n",
    "print(f\"File size: {os.path.getsize(FILE2) / (1024 * 1024):.2f} MB\")"
   ]
  }
 ],
 "metadata": {
  "kernelspec": {
   "display_name": "assamese",
   "language": "python",
   "name": "python3"
  },
  "language_info": {
   "codemirror_mode": {
    "name": "ipython",
    "version": 3
   },
   "file_extension": ".py",
   "mimetype": "text/x-python",
   "name": "python",
   "nbconvert_exporter": "python",
   "pygments_lexer": "ipython3",
   "version": "3.11.0"
  }
 },
 "nbformat": 4,
 "nbformat_minor": 5
}
